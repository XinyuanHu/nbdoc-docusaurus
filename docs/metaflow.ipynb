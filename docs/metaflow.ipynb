{
 "cells": [
  {
   "cell_type": "raw",
   "id": "012030e0-9f1f-488c-bc67-cb8426749ce3",
   "metadata": {},
   "source": [
    "---\n",
    "title: MetaFlow Features\n",
    "sidebar_position: 3\n",
    "---"
   ]
  },
  {
   "cell_type": "markdown",
   "id": "04e2cf4d-595e-4402-80ab-50e994006086",
   "metadata": {},
   "source": [
    "# Special Features For Metaflow"
   ]
  },
  {
   "cell_type": "markdown",
   "id": "9f62db70-937a-47ff-8a2f-474994431662",
   "metadata": {},
   "source": [
    "`nbdoc` is an open source project developed at [Outerbounds](https://outerbounds.com), with the goal of having high quality documentation for [Metaflow](https://metaflow.org).  Therefore, it should be no surprise that there are some special features made specifically for Metaflow.\n",
    "\n",
    "First, consider this basic Flow:"
   ]
  },
  {
   "cell_type": "code",
   "execution_count": 3,
   "id": "af5b9365-06cf-4d69-abba-fe2214fbf561",
   "metadata": {},
   "outputs": [
    {
     "name": "stdout",
     "output_type": "stream",
     "text": [
      "Overwriting myflow.py\n"
     ]
    }
   ],
   "source": [
    "%%writefile myflow.py\n",
    "from metaflow import FlowSpec, step\n",
    "\n",
    "\n",
    "class MyFlow(FlowSpec):\n",
    "    @step\n",
    "    def start(self):\n",
    "        self.some_data = [\"some\", \"data\"]\n",
    "        self.next(self.middle)\n",
    "\n",
    "    @step\n",
    "    def middle(self):\n",
    "        self.next(self.end)\n",
    "\n",
    "    @step\n",
    "    def end(self):\n",
    "        pass\n",
    "\n",
    "\n",
    "if __name__ == \"__main__\":\n",
    "    MyFlow()"
   ]
  },
  {
   "cell_type": "markdown",
   "id": "362d192d-189c-4960-93d9-409d3a090769",
   "metadata": {},
   "source": [
    "If you were to run this script with the magic command\n",
    "\n",
    "```ipython\n",
    "! python run myflow.py\n",
    "```\n",
    "\n",
    "You would normally get output that looks like this:\n",
    "\n",
    "```\n",
    "Metaflow 2.5.3 executing MyFlow for user:hamel\n",
    "Validating your flow...\n",
    "    The graph looks good!\n",
    "Running pylint...\n",
    "    Pylint is happy!\n",
    "2022-03-24 11:06:46.769 Workflow starting (run-id 1648145206766542):\n",
    "2022-03-24 11:06:46.776 [1648145206766542/start/1 (pid 81929)] Task is starting.\n",
    "2022-03-24 11:06:47.549 [1648145206766542/start/1 (pid 81929)] Task finished successfully.\n",
    "2022-03-24 11:06:47.557 [1648145206766542/middle/2 (pid 81932)] Task is starting.\n",
    "2022-03-24 11:06:48.371 [1648145206766542/middle/2 (pid 81932)] Task finished successfully.\n",
    "2022-03-24 11:06:48.379 [1648145206766542/end/3 (pid 81935)] Task is starting.\n",
    "2022-03-24 11:06:49.133 [1648145206766542/end/3 (pid 81935)] Task finished successfully.\n",
    "2022-03-24 11:06:49.134 Done!\n",
    "```\n",
    "\n",
    "However, `nbdoc` automatically detects and cleans up the output to remove extreanous information, which looks like this (see the rendered page)"
   ]
  },
  {
   "cell_type": "code",
   "execution_count": 7,
   "id": "d824e86d-b866-44a4-bcf3-2dfeba7405bb",
   "metadata": {},
   "outputs": [
    {
     "name": "stdout",
     "output_type": "stream",
     "text": [
      "\u001b[35m\u001b[1mMetaflow 2.5.3\u001b[0m\u001b[35m\u001b[22m executing \u001b[0m\u001b[31m\u001b[1mMyFlow\u001b[0m\u001b[35m\u001b[22m\u001b[0m\u001b[35m\u001b[22m for \u001b[0m\u001b[31m\u001b[1muser:hamel\u001b[0m\u001b[35m\u001b[22m\u001b[K\u001b[0m\u001b[35m\u001b[22m\u001b[0m\n",
      "\u001b[35m\u001b[22mValidating your flow...\u001b[K\u001b[0m\u001b[35m\u001b[22m\u001b[0m\n",
      "\u001b[32m\u001b[1m    The graph looks good!\u001b[K\u001b[0m\u001b[32m\u001b[1m\u001b[0m\n",
      "\u001b[35m\u001b[22mRunning pylint...\u001b[K\u001b[0m\u001b[35m\u001b[22m\u001b[0m\n",
      "\u001b[32m\u001b[1m    Pylint is happy!\u001b[K\u001b[0m\u001b[32m\u001b[1m\u001b[0m\n",
      "\u001b[35m2022-03-24 11:08:15.330 \u001b[0m\u001b[1mWorkflow starting (run-id 1648145295327968):\u001b[0m\n",
      "\u001b[35m2022-03-24 11:08:15.338 \u001b[0m\u001b[32m[1648145295327968/start/1 (pid 81969)] \u001b[0m\u001b[1mTask is starting.\u001b[0m\n",
      "\u001b[35m2022-03-24 11:08:16.084 \u001b[0m\u001b[32m[1648145295327968/start/1 (pid 81969)] \u001b[0m\u001b[1mTask finished successfully.\u001b[0m\n",
      "\u001b[35m2022-03-24 11:08:16.092 \u001b[0m\u001b[32m[1648145295327968/middle/2 (pid 81972)] \u001b[0m\u001b[1mTask is starting.\u001b[0m\n",
      "\u001b[35m2022-03-24 11:08:16.871 \u001b[0m\u001b[32m[1648145295327968/middle/2 (pid 81972)] \u001b[0m\u001b[1mTask finished successfully.\u001b[0m\n",
      "\u001b[35m2022-03-24 11:08:16.878 \u001b[0m\u001b[32m[1648145295327968/end/3 (pid 81975)] \u001b[0m\u001b[1mTask is starting.\u001b[0m\n",
      "\u001b[35m2022-03-24 11:08:17.682 \u001b[0m\u001b[32m[1648145295327968/end/3 (pid 81975)] \u001b[0m\u001b[1mTask finished successfully.\u001b[0m\n",
      "\u001b[35m2022-03-24 11:08:17.683 \u001b[0m\u001b[1mDone!\u001b[0m\n",
      "\u001b[0m"
     ]
    }
   ],
   "source": [
    "! python myflow.py run"
   ]
  },
  {
   "cell_type": "markdown",
   "id": "cef01d77-0883-497a-bae5-a55a3b85b652",
   "metadata": {},
   "source": [
    "You can also choose to only show certain steps from your Flow with the `meta:show_steps=<step1_name>,<step2_name>` comment.  The cell input looks like this.  Note that the comment is stripped out and only the \"middle\" step is showing\n",
    "\n",
    "```python\n",
    "#meta:show_steps=middle\n",
    "!python myflow.py run --run-id-file run_id.txt\n",
    "```\n",
    "\n",
    ":::tip\n",
    "\n",
    "If you want to interact with a Flow, we recommend using the `--run-id-file <filemame>` flag.\n",
    "\n",
    ":::tip"
   ]
  },
  {
   "cell_type": "code",
   "execution_count": 8,
   "id": "c8c21e42-9f02-4690-b0cb-f8610c589c4b",
   "metadata": {},
   "outputs": [
    {
     "name": "stdout",
     "output_type": "stream",
     "text": [
      "\u001b[35m\u001b[1mMetaflow 2.5.3\u001b[0m\u001b[35m\u001b[22m executing \u001b[0m\u001b[31m\u001b[1mMyFlow\u001b[0m\u001b[35m\u001b[22m\u001b[0m\u001b[35m\u001b[22m for \u001b[0m\u001b[31m\u001b[1muser:hamel\u001b[0m\u001b[35m\u001b[22m\u001b[K\u001b[0m\u001b[35m\u001b[22m\u001b[0m\n",
      "\u001b[35m\u001b[22mValidating your flow...\u001b[K\u001b[0m\u001b[35m\u001b[22m\u001b[0m\n",
      "\u001b[32m\u001b[1m    The graph looks good!\u001b[K\u001b[0m\u001b[32m\u001b[1m\u001b[0m\n",
      "\u001b[35m\u001b[22mRunning pylint...\u001b[K\u001b[0m\u001b[35m\u001b[22m\u001b[0m\n",
      "\u001b[32m\u001b[1m    Pylint is happy!\u001b[K\u001b[0m\u001b[32m\u001b[1m\u001b[0m\n",
      "\u001b[35m2022-03-24 11:09:13.953 \u001b[0m\u001b[1mWorkflow starting (run-id 1648145353949545):\u001b[0m\n",
      "\u001b[35m2022-03-24 11:09:13.960 \u001b[0m\u001b[32m[1648145353949545/start/1 (pid 81995)] \u001b[0m\u001b[1mTask is starting.\u001b[0m\n",
      "\u001b[35m2022-03-24 11:09:14.730 \u001b[0m\u001b[32m[1648145353949545/start/1 (pid 81995)] \u001b[0m\u001b[1mTask finished successfully.\u001b[0m\n",
      "\u001b[35m2022-03-24 11:09:14.738 \u001b[0m\u001b[32m[1648145353949545/middle/2 (pid 82000)] \u001b[0m\u001b[1mTask is starting.\u001b[0m\n",
      "\u001b[35m2022-03-24 11:09:15.508 \u001b[0m\u001b[32m[1648145353949545/middle/2 (pid 82000)] \u001b[0m\u001b[1mTask finished successfully.\u001b[0m\n",
      "\u001b[35m2022-03-24 11:09:15.517 \u001b[0m\u001b[32m[1648145353949545/end/3 (pid 82003)] \u001b[0m\u001b[1mTask is starting.\u001b[0m\n",
      "\u001b[35m2022-03-24 11:09:16.315 \u001b[0m\u001b[32m[1648145353949545/end/3 (pid 82003)] \u001b[0m\u001b[1mTask finished successfully.\u001b[0m\n",
      "\u001b[35m2022-03-24 11:09:16.316 \u001b[0m\u001b[1mDone!\u001b[0m\n",
      "\u001b[0m"
     ]
    }
   ],
   "source": [
    "#meta:show_steps=middle\n",
    "!python myflow.py run --run-id-file run_id.txt"
   ]
  },
  {
   "cell_type": "markdown",
   "id": "687459f1-8ce2-44a6-ae95-517d50052971",
   "metadata": {},
   "source": [
    "You can retrieve results from your flow like this:"
   ]
  },
  {
   "cell_type": "code",
   "execution_count": 9,
   "id": "9eb9140d-2bec-48b5-b23d-38f5907df374",
   "metadata": {},
   "outputs": [
    {
     "data": {
      "text/plain": [
       "['some', 'data']"
      ]
     },
     "execution_count": 9,
     "metadata": {},
     "output_type": "execute_result"
    }
   ],
   "source": [
    "run_id = !cat run_id.txt\n",
    "from metaflow import Run\n",
    "\n",
    "run = Run(f\"MyFlow/{run_id[0]}\")\n",
    "\n",
    "run.data.some_data"
   ]
  },
  {
   "cell_type": "markdown",
   "id": "1b1961f1-ea56-4ff5-9122-beff3a20a05a",
   "metadata": {},
   "source": [
    "It is often smart to run tests in your docs.  To do this, simply add assert statements.  These will get tested automatically when we run the test suite."
   ]
  },
  {
   "cell_type": "code",
   "execution_count": 10,
   "id": "8997a612-5f36-40fb-9549-6354764397d0",
   "metadata": {},
   "outputs": [],
   "source": [
    "assert run.data.some_data == [\"some\", \"data\"]\n",
    "assert run.successful"
   ]
  }
 ],
 "metadata": {
  "kernelspec": {
   "display_name": "Python 3.9.7 ('base')",
   "language": "python",
   "name": "python397jvsc74a57bd042fd40e048e0585f88ec242f050f7ef0895cf845a8dd1159352394e5826cd102"
  },
  "language_info": {
   "codemirror_mode": {
    "name": "ipython",
    "version": 3
   },
   "file_extension": ".py",
   "mimetype": "text/x-python",
   "name": "python",
   "nbconvert_exporter": "python",
   "pygments_lexer": "ipython3",
   "version": "3.9.7"
  }
 },
 "nbformat": 4,
 "nbformat_minor": 5
}
