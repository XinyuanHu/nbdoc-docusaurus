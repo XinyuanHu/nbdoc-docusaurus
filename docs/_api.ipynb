{
 "cells": [
  {
   "cell_type": "raw",
   "id": "848cbd5e-5946-4eb3-b358-8cacf63f4b16",
   "metadata": {},
   "source": [
    "---\n",
    "title: API Docs\n",
    "sidebar_position: 2\n",
    "---"
   ]
  },
  {
   "cell_type": "markdown",
   "id": "d81245e7-8d55-464c-ad86-71d5b1dcb7d0",
   "metadata": {},
   "source": [
    "# API Docs"
   ]
  },
  {
   "cell_type": "markdown",
   "id": "e03c331e-d14d-4f25-a176-a6d4af535d4c",
   "metadata": {},
   "source": [
    "There are many different flavors of technical documentation:\n",
    "\n",
    "![](docs.png)\n",
    "_Source: https://documentation.divio.com/_\n",
    "\n",
    "\n",
    "In addition to tutorials, how-to guides and explanations, it can be useful to also document APIs.  However, we do not want to reproduce work that already exists in the form of docstrings that commonly exist in many python librarires.   `nbdoc` allows you to document python APIs by introspecting their signatures and docstrings. \n",
    "\n",
    "`nbdoc.show_doc.ShowDoc` is designed to work with apis that are documented in the [numpy docstring](https://numpydoc.readthedocs.io/en/latest/format.html) format.  `ShowDoc` parses the signature as well as the object's docstring in order to render API documentation."
   ]
  },
  {
   "cell_type": "code",
   "execution_count": 14,
   "id": "f00a61c4-0ac1-4c62-90f1-038342e4bcb5",
   "metadata": {},
   "outputs": [],
   "source": [
    "from nbdoc.showdoc import ShowDoc\n",
    "from metaflow import FlowSpec, conda\n",
    "from metaflow.plugins import CondaStepDecorator"
   ]
  },
  {
   "cell_type": "markdown",
   "id": "80895fc3-3f78-4dd4-9fb4-a6c0ccb3454f",
   "metadata": {},
   "source": [
    "For example let's see what the API docs for `FlowSpec` looks like:"
   ]
  },
  {
   "cell_type": "code",
   "execution_count": 15,
   "id": "94de4fb6-3912-4777-9852-bfa6585347d1",
   "metadata": {},
   "outputs": [
    {
     "data": {
      "text/html": [
       "<HTMLRemove>\n",
       "<h3> <code>class</code> <span style=\"color:Brown\">FlowSpec</span> <em>(use_cli=True)</em><a href=\"https://github.com/Netflix/metaflow/tree/master/metaflow/flowspec.py#L48\" style=\"float:right\">[source]</a></h3><strong>metaflow.flowspec</strong><p><blockquote>Main&nbsp;class&nbsp;from&nbsp;which&nbsp;all&nbsp;Flows&nbsp;should&nbsp;inherit.<br><br>Attributes<br>----------<br>script_name<br>index<br>input</blockquote></p>\n",
       "</HTMLRemove>\n",
       "<DocSection type=\"class\" name=\"FlowSpec\" module=\"metaflow.flowspec\" heading_level=\"3\" link=\"https://github.com/Netflix/metaflow/tree/master/metaflow/flowspec.py#L48\">\n",
       "<SigArgSection>\n",
       "<SigArg name=\"use_cli\" default=\"True\" />\n",
       "</SigArgSection>\n",
       "<Description summary=\"Main class from which all Flows should inherit.\" />\n",
       "<ParamSection name=\"Attributes\">\n",
       "\t<Parameter name=\"script_name\" />\n",
       "\t<Parameter name=\"index\" />\n",
       "\t<Parameter name=\"input\" />\n",
       "</ParamSection>\n",
       "</DocSection>"
      ],
      "text/plain": [
       "<nbdoc.showdoc.ShowDoc at 0x7f9621d9de80>"
      ]
     },
     "execution_count": 15,
     "metadata": {},
     "output_type": "execute_result"
    }
   ],
   "source": [
    "ShowDoc(FlowSpec)"
   ]
  },
  {
   "cell_type": "markdown",
   "id": "f035abae-8b1d-4240-92fe-98ba5fa4c31a",
   "metadata": {},
   "source": [
    "Even though the API docs will render in the notebook, they will be restyled in the docs.  We render it in the notebook so you can have some visual correspendence to what is being rendered in the docs.\n",
    "\n",
    "Sometimes, you may want to override what the API docs show because of tricky python objects like decorators.  For example, this is how you would document the conda step decorator:"
   ]
  },
  {
   "cell_type": "code",
   "execution_count": 16,
   "id": "78bfbe3a-7ed3-4009-81fe-868f9493963d",
   "metadata": {},
   "outputs": [
    {
     "data": {
      "text/html": [
       "<HTMLRemove>\n",
       "<h3> <code>decorator</code> <span style=\"color:Brown\">@conda</span> <em>(...)</em><a href=\"https://github.com/Netflix/metaflow/tree/master/metaflow/plugins/conda/conda_step_decorator.py#L37\" style=\"float:right\">[source]</a></h3><strong>metaflow.plugins.conda.conda_step_decorator</strong><p><blockquote>Conda&nbsp;decorator&nbsp;that&nbsp;sets&nbsp;the&nbsp;Conda&nbsp;environment&nbsp;for&nbsp;your&nbsp;step<br><br>To&nbsp;use,&nbsp;add&nbsp;this&nbsp;decorator&nbsp;to&nbsp;your&nbsp;step:<br>```<br>@conda<br>@step<br>def&nbsp;MyStep(self):<br>&nbsp;&nbsp;&nbsp;&nbsp;...<br>```<br><br>Information&nbsp;in&nbsp;this&nbsp;decorator&nbsp;will&nbsp;override&nbsp;any&nbsp;eventual&nbsp;@conda_base&nbsp;flow&nbsp;level&nbsp;decorator.<br>Parameters<br>----------<br>libraries&nbsp;:&nbsp;Dict<br>&nbsp;&nbsp;&nbsp;&nbsp;Libraries&nbsp;to&nbsp;use&nbsp;for&nbsp;this&nbsp;flow.&nbsp;The&nbsp;key&nbsp;is&nbsp;the&nbsp;name&nbsp;of&nbsp;the&nbsp;package&nbsp;and&nbsp;the&nbsp;value<br>&nbsp;&nbsp;&nbsp;&nbsp;is&nbsp;the&nbsp;version&nbsp;to&nbsp;use.&nbsp;Defaults&nbsp;to&nbsp;{}<br>python&nbsp;:&nbsp;string<br>&nbsp;&nbsp;&nbsp;&nbsp;Version&nbsp;of&nbsp;Python&nbsp;to&nbsp;use&nbsp;(for&nbsp;example:&nbsp;'3.7.4').&nbsp;Defaults&nbsp;to&nbsp;None<br>&nbsp;&nbsp;&nbsp;&nbsp;(will&nbsp;use&nbsp;the&nbsp;current&nbsp;python&nbsp;version)<br>disabled&nbsp;:&nbsp;bool<br>&nbsp;&nbsp;&nbsp;&nbsp;If&nbsp;set&nbsp;to&nbsp;True,&nbsp;disables&nbsp;Conda.&nbsp;Defaults&nbsp;to&nbsp;False</blockquote></p>\n",
       "</HTMLRemove>\n",
       "<DocSection type=\"decorator\" name=\"@conda\" module=\"metaflow.plugins.conda.conda_step_decorator\" heading_level=\"3\" link=\"https://github.com/Netflix/metaflow/tree/master/metaflow/plugins/conda/conda_step_decorator.py#L37\">\n",
       "<SigArgSection>\n",
       "<SigArg name=\"...\" />\n",
       "</SigArgSection>\n",
       "<Description summary=\"Conda decorator that sets the Conda environment for your step\" extended_summary=\"To use, add this decorator to your step:\\n```\\n@conda\\n@step\\ndef MyStep(self):\\n    ...\\n```\\n\\nInformation in this decorator will override any eventual @conda_base flow level decorator.\\nParameters\\n----------\\nlibraries : Dict\\n    Libraries to use for this flow. The key is the name of the package and the value\\n    is the version to use. Defaults to {}\\npython : string\\n    Version of Python to use (for example: '3.7.4'). Defaults to None\\n    (will use the current python version)\\ndisabled : bool\\n    If set to True, disables Conda. Defaults to False\" />\n",
       "<ParamSection name=\"Attributes\">\n",
       "\t<Parameter name=\"conda\" />\n",
       "\t<Parameter name=\"environments\" />\n",
       "</ParamSection>\n",
       "</DocSection>"
      ],
      "text/plain": [
       "<nbdoc.showdoc.ShowDoc at 0x7f9621d94cd0>"
      ]
     },
     "execution_count": 16,
     "metadata": {},
     "output_type": "execute_result"
    }
   ],
   "source": [
    "ShowDoc(CondaStepDecorator)"
   ]
  },
  {
   "cell_type": "markdown",
   "id": "0fa20cfa-314f-43c8-b4c9-fd0525afcaca",
   "metadata": {},
   "source": [
    "Therefore, you can use the arguments `name` and `decorator` to set the right behavior.  (Setting `decorator=True` is the equivalent of setting `objtype='decorator'`):"
   ]
  },
  {
   "cell_type": "code",
   "execution_count": 17,
   "id": "c78455a3-213e-46fb-901c-df395cc0c85c",
   "metadata": {},
   "outputs": [
    {
     "data": {
      "text/html": [
       "<HTMLRemove>\n",
       "<h3> <code>decorator</code> <span style=\"color:Brown\">@conda</span> <em>(...)</em><a href=\"https://github.com/Netflix/metaflow/tree/master/metaflow/plugins/conda/conda_step_decorator.py#L37\" style=\"float:right\">[source]</a></h3><strong>metaflow.plugins.conda.conda_step_decorator</strong><p><blockquote>Conda&nbsp;decorator&nbsp;that&nbsp;sets&nbsp;the&nbsp;Conda&nbsp;environment&nbsp;for&nbsp;your&nbsp;step<br><br>To&nbsp;use,&nbsp;add&nbsp;this&nbsp;decorator&nbsp;to&nbsp;your&nbsp;step:<br>```<br>@conda<br>@step<br>def&nbsp;MyStep(self):<br>&nbsp;&nbsp;&nbsp;&nbsp;...<br>```<br><br>Information&nbsp;in&nbsp;this&nbsp;decorator&nbsp;will&nbsp;override&nbsp;any&nbsp;eventual&nbsp;@conda_base&nbsp;flow&nbsp;level&nbsp;decorator.<br>Parameters<br>----------<br>libraries&nbsp;:&nbsp;Dict<br>&nbsp;&nbsp;&nbsp;&nbsp;Libraries&nbsp;to&nbsp;use&nbsp;for&nbsp;this&nbsp;flow.&nbsp;The&nbsp;key&nbsp;is&nbsp;the&nbsp;name&nbsp;of&nbsp;the&nbsp;package&nbsp;and&nbsp;the&nbsp;value<br>&nbsp;&nbsp;&nbsp;&nbsp;is&nbsp;the&nbsp;version&nbsp;to&nbsp;use.&nbsp;Defaults&nbsp;to&nbsp;{}<br>python&nbsp;:&nbsp;string<br>&nbsp;&nbsp;&nbsp;&nbsp;Version&nbsp;of&nbsp;Python&nbsp;to&nbsp;use&nbsp;(for&nbsp;example:&nbsp;'3.7.4').&nbsp;Defaults&nbsp;to&nbsp;None<br>&nbsp;&nbsp;&nbsp;&nbsp;(will&nbsp;use&nbsp;the&nbsp;current&nbsp;python&nbsp;version)<br>disabled&nbsp;:&nbsp;bool<br>&nbsp;&nbsp;&nbsp;&nbsp;If&nbsp;set&nbsp;to&nbsp;True,&nbsp;disables&nbsp;Conda.&nbsp;Defaults&nbsp;to&nbsp;False</blockquote></p>\n",
       "</HTMLRemove>\n",
       "<DocSection type=\"decorator\" name=\"@conda\" module=\"metaflow.plugins.conda.conda_step_decorator\" heading_level=\"3\" link=\"https://github.com/Netflix/metaflow/tree/master/metaflow/plugins/conda/conda_step_decorator.py#L37\">\n",
       "<SigArgSection>\n",
       "<SigArg name=\"...\" />\n",
       "</SigArgSection>\n",
       "<Description summary=\"Conda decorator that sets the Conda environment for your step\" extended_summary=\"To use, add this decorator to your step:\\n```\\n@conda\\n@step\\ndef MyStep(self):\\n    ...\\n```\\n\\nInformation in this decorator will override any eventual @conda_base flow level decorator.\\nParameters\\n----------\\nlibraries : Dict\\n    Libraries to use for this flow. The key is the name of the package and the value\\n    is the version to use. Defaults to {}\\npython : string\\n    Version of Python to use (for example: '3.7.4'). Defaults to None\\n    (will use the current python version)\\ndisabled : bool\\n    If set to True, disables Conda. Defaults to False\" />\n",
       "<ParamSection name=\"Attributes\">\n",
       "\t<Parameter name=\"conda\" />\n",
       "\t<Parameter name=\"environments\" />\n",
       "</ParamSection>\n",
       "</DocSection>"
      ],
      "text/plain": [
       "<nbdoc.showdoc.ShowDoc at 0x7f9621d86400>"
      ]
     },
     "execution_count": 17,
     "metadata": {},
     "output_type": "execute_result"
    }
   ],
   "source": [
    "ShowDoc(CondaStepDecorator, name=\"@conda\", decorator=True)"
   ]
  },
  {
   "cell_type": "markdown",
   "id": "085da706-445e-4355-ad7e-a4a137b17f46",
   "metadata": {},
   "source": [
    "For metaflow, there is special magic built-in, so we don't need to do anything manually for decorators:"
   ]
  },
  {
   "cell_type": "code",
   "execution_count": 18,
   "id": "062d848f-4da9-4d90-892c-3a3ba36d45ca",
   "metadata": {},
   "outputs": [
    {
     "data": {
      "text/html": [
       "<HTMLRemove>\n",
       "<h3> <code>decorator</code> <span style=\"color:Brown\">@conda</span> <em>(...)</em><a href=\"https://github.com/Netflix/metaflow/tree/master/metaflow/plugins/conda/conda_step_decorator.py#L37\" style=\"float:right\">[source]</a></h3><strong>metaflow.plugins.conda.conda_step_decorator</strong><p><blockquote>Conda&nbsp;decorator&nbsp;that&nbsp;sets&nbsp;the&nbsp;Conda&nbsp;environment&nbsp;for&nbsp;your&nbsp;step<br><br>To&nbsp;use,&nbsp;add&nbsp;this&nbsp;decorator&nbsp;to&nbsp;your&nbsp;step:<br>```<br>@conda<br>@step<br>def&nbsp;MyStep(self):<br>&nbsp;&nbsp;&nbsp;&nbsp;...<br>```<br><br>Information&nbsp;in&nbsp;this&nbsp;decorator&nbsp;will&nbsp;override&nbsp;any&nbsp;eventual&nbsp;@conda_base&nbsp;flow&nbsp;level&nbsp;decorator.<br>Parameters<br>----------<br>libraries&nbsp;:&nbsp;Dict<br>&nbsp;&nbsp;&nbsp;&nbsp;Libraries&nbsp;to&nbsp;use&nbsp;for&nbsp;this&nbsp;flow.&nbsp;The&nbsp;key&nbsp;is&nbsp;the&nbsp;name&nbsp;of&nbsp;the&nbsp;package&nbsp;and&nbsp;the&nbsp;value<br>&nbsp;&nbsp;&nbsp;&nbsp;is&nbsp;the&nbsp;version&nbsp;to&nbsp;use.&nbsp;Defaults&nbsp;to&nbsp;{}<br>python&nbsp;:&nbsp;string<br>&nbsp;&nbsp;&nbsp;&nbsp;Version&nbsp;of&nbsp;Python&nbsp;to&nbsp;use&nbsp;(for&nbsp;example:&nbsp;'3.7.4').&nbsp;Defaults&nbsp;to&nbsp;None<br>&nbsp;&nbsp;&nbsp;&nbsp;(will&nbsp;use&nbsp;the&nbsp;current&nbsp;python&nbsp;version)<br>disabled&nbsp;:&nbsp;bool<br>&nbsp;&nbsp;&nbsp;&nbsp;If&nbsp;set&nbsp;to&nbsp;True,&nbsp;disables&nbsp;Conda.&nbsp;Defaults&nbsp;to&nbsp;False</blockquote></p>\n",
       "</HTMLRemove>\n",
       "<DocSection type=\"decorator\" name=\"@conda\" module=\"metaflow.plugins.conda.conda_step_decorator\" heading_level=\"3\" link=\"https://github.com/Netflix/metaflow/tree/master/metaflow/plugins/conda/conda_step_decorator.py#L37\">\n",
       "<SigArgSection>\n",
       "<SigArg name=\"...\" />\n",
       "</SigArgSection>\n",
       "<Description summary=\"Conda decorator that sets the Conda environment for your step\" extended_summary=\"To use, add this decorator to your step:\\n```\\n@conda\\n@step\\ndef MyStep(self):\\n    ...\\n```\\n\\nInformation in this decorator will override any eventual @conda_base flow level decorator.\\nParameters\\n----------\\nlibraries : Dict\\n    Libraries to use for this flow. The key is the name of the package and the value\\n    is the version to use. Defaults to {}\\npython : string\\n    Version of Python to use (for example: '3.7.4'). Defaults to None\\n    (will use the current python version)\\ndisabled : bool\\n    If set to True, disables Conda. Defaults to False\" />\n",
       "<ParamSection name=\"Attributes\">\n",
       "\t<Parameter name=\"conda\" />\n",
       "\t<Parameter name=\"environments\" />\n",
       "</ParamSection>\n",
       "</DocSection>"
      ],
      "text/plain": [
       "<nbdoc.showdoc.ShowDoc at 0x7f9621dbe520>"
      ]
     },
     "execution_count": 18,
     "metadata": {},
     "output_type": "execute_result"
    }
   ],
   "source": [
    "ShowDoc(conda)"
   ]
  }
 ],
 "metadata": {
  "kernelspec": {
   "display_name": "Python 3.9.7 ('base')",
   "language": "python",
   "name": "python397jvsc74a57bd042fd40e048e0585f88ec242f050f7ef0895cf845a8dd1159352394e5826cd102"
  },
  "language_info": {
   "codemirror_mode": {
    "name": "ipython",
    "version": 3
   },
   "file_extension": ".py",
   "mimetype": "text/x-python",
   "name": "python",
   "nbconvert_exporter": "python",
   "pygments_lexer": "ipython3",
   "version": "3.9.7"
  }
 },
 "nbformat": 4,
 "nbformat_minor": 5
}
